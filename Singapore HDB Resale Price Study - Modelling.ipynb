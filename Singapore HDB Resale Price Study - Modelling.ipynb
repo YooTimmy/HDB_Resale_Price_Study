{
 "cells": [
  {
   "cell_type": "code",
   "execution_count": 1,
   "metadata": {},
   "outputs": [],
   "source": [
    "%matplotlib inline\n",
    "import pandas as pd\n",
    "import numpy as np\n",
    "import matplotlib.pyplot as plt\n",
    "plt.rcParams['figure.figsize'] = (15, 10)\n",
    "plt.rcParams['font.family'] = 'sans-serif'"
   ]
  },
  {
   "cell_type": "code",
   "execution_count": 2,
   "metadata": {},
   "outputs": [],
   "source": [
    "from sklearn import linear_model\n",
    "from sklearn.model_selection import train_test_split"
   ]
  },
  {
   "cell_type": "code",
   "execution_count": 3,
   "metadata": {},
   "outputs": [
    {
     "data": {
      "text/html": [
       "<div>\n",
       "<style scoped>\n",
       "    .dataframe tbody tr th:only-of-type {\n",
       "        vertical-align: middle;\n",
       "    }\n",
       "\n",
       "    .dataframe tbody tr th {\n",
       "        vertical-align: top;\n",
       "    }\n",
       "\n",
       "    .dataframe thead th {\n",
       "        text-align: right;\n",
       "    }\n",
       "</style>\n",
       "<table border=\"1\" class=\"dataframe\">\n",
       "  <thead>\n",
       "    <tr style=\"text-align: right;\">\n",
       "      <th></th>\n",
       "      <th>month</th>\n",
       "      <th>town</th>\n",
       "      <th>flat_type</th>\n",
       "      <th>block</th>\n",
       "      <th>street_name</th>\n",
       "      <th>storey_range</th>\n",
       "      <th>floor_area_sqm</th>\n",
       "      <th>flat_model</th>\n",
       "      <th>lease_commence_date</th>\n",
       "      <th>remaining_lease</th>\n",
       "      <th>...</th>\n",
       "      <th>Distance_to_Raffles</th>\n",
       "      <th>MRT</th>\n",
       "      <th>Walk_Time_to_MRT</th>\n",
       "      <th>Shopping_Mall</th>\n",
       "      <th>Walk_Time_to_Mall</th>\n",
       "      <th>Travel_Time</th>\n",
       "      <th>storey</th>\n",
       "      <th>remain_lease</th>\n",
       "      <th>town_premium</th>\n",
       "      <th>flat_model_premium</th>\n",
       "    </tr>\n",
       "  </thead>\n",
       "  <tbody>\n",
       "    <tr>\n",
       "      <th>0</th>\n",
       "      <td>2015-01</td>\n",
       "      <td>ANG MO KIO</td>\n",
       "      <td>4 ROOM</td>\n",
       "      <td>612</td>\n",
       "      <td>ANG MO KIO AVE 4</td>\n",
       "      <td>04 TO 06</td>\n",
       "      <td>91.0</td>\n",
       "      <td>New Generation</td>\n",
       "      <td>1980</td>\n",
       "      <td>64.0</td>\n",
       "      <td>...</td>\n",
       "      <td>10.679973</td>\n",
       "      <td>Yio Chu Kang</td>\n",
       "      <td>9.651508</td>\n",
       "      <td>Broadway Plaza</td>\n",
       "      <td>13.089647</td>\n",
       "      <td>24.7</td>\n",
       "      <td>5</td>\n",
       "      <td>61</td>\n",
       "      <td>21000</td>\n",
       "      <td>-24000</td>\n",
       "    </tr>\n",
       "    <tr>\n",
       "      <th>1</th>\n",
       "      <td>2015-01</td>\n",
       "      <td>ANG MO KIO</td>\n",
       "      <td>4 ROOM</td>\n",
       "      <td>177</td>\n",
       "      <td>ANG MO KIO AVE 4</td>\n",
       "      <td>01 TO 03</td>\n",
       "      <td>91.0</td>\n",
       "      <td>New Generation</td>\n",
       "      <td>1981</td>\n",
       "      <td>65.0</td>\n",
       "      <td>...</td>\n",
       "      <td>10.679973</td>\n",
       "      <td>Yio Chu Kang</td>\n",
       "      <td>9.651508</td>\n",
       "      <td>Broadway Plaza</td>\n",
       "      <td>13.089647</td>\n",
       "      <td>24.7</td>\n",
       "      <td>2</td>\n",
       "      <td>62</td>\n",
       "      <td>21000</td>\n",
       "      <td>-24000</td>\n",
       "    </tr>\n",
       "    <tr>\n",
       "      <th>2</th>\n",
       "      <td>2015-01</td>\n",
       "      <td>ANG MO KIO</td>\n",
       "      <td>4 ROOM</td>\n",
       "      <td>254</td>\n",
       "      <td>ANG MO KIO AVE 4</td>\n",
       "      <td>07 TO 09</td>\n",
       "      <td>97.0</td>\n",
       "      <td>New Generation</td>\n",
       "      <td>1977</td>\n",
       "      <td>61.0</td>\n",
       "      <td>...</td>\n",
       "      <td>10.679973</td>\n",
       "      <td>Yio Chu Kang</td>\n",
       "      <td>9.651508</td>\n",
       "      <td>Broadway Plaza</td>\n",
       "      <td>13.089647</td>\n",
       "      <td>24.7</td>\n",
       "      <td>8</td>\n",
       "      <td>58</td>\n",
       "      <td>21000</td>\n",
       "      <td>-24000</td>\n",
       "    </tr>\n",
       "    <tr>\n",
       "      <th>3</th>\n",
       "      <td>2015-01</td>\n",
       "      <td>ANG MO KIO</td>\n",
       "      <td>4 ROOM</td>\n",
       "      <td>117</td>\n",
       "      <td>ANG MO KIO AVE 4</td>\n",
       "      <td>10 TO 12</td>\n",
       "      <td>98.0</td>\n",
       "      <td>New Generation</td>\n",
       "      <td>1978</td>\n",
       "      <td>62.0</td>\n",
       "      <td>...</td>\n",
       "      <td>10.679973</td>\n",
       "      <td>Yio Chu Kang</td>\n",
       "      <td>9.651508</td>\n",
       "      <td>Broadway Plaza</td>\n",
       "      <td>13.089647</td>\n",
       "      <td>24.7</td>\n",
       "      <td>11</td>\n",
       "      <td>59</td>\n",
       "      <td>21000</td>\n",
       "      <td>-24000</td>\n",
       "    </tr>\n",
       "    <tr>\n",
       "      <th>4</th>\n",
       "      <td>2015-02</td>\n",
       "      <td>ANG MO KIO</td>\n",
       "      <td>4 ROOM</td>\n",
       "      <td>175</td>\n",
       "      <td>ANG MO KIO AVE 4</td>\n",
       "      <td>04 TO 06</td>\n",
       "      <td>91.0</td>\n",
       "      <td>New Generation</td>\n",
       "      <td>1981</td>\n",
       "      <td>65.0</td>\n",
       "      <td>...</td>\n",
       "      <td>10.679973</td>\n",
       "      <td>Yio Chu Kang</td>\n",
       "      <td>9.651508</td>\n",
       "      <td>Broadway Plaza</td>\n",
       "      <td>13.089647</td>\n",
       "      <td>24.7</td>\n",
       "      <td>5</td>\n",
       "      <td>62</td>\n",
       "      <td>21000</td>\n",
       "      <td>-24000</td>\n",
       "    </tr>\n",
       "  </tbody>\n",
       "</table>\n",
       "<p>5 rows × 24 columns</p>\n",
       "</div>"
      ],
      "text/plain": [
       "     month        town flat_type block       street_name storey_range  \\\n",
       "0  2015-01  ANG MO KIO    4 ROOM   612  ANG MO KIO AVE 4     04 TO 06   \n",
       "1  2015-01  ANG MO KIO    4 ROOM   177  ANG MO KIO AVE 4     01 TO 03   \n",
       "2  2015-01  ANG MO KIO    4 ROOM   254  ANG MO KIO AVE 4     07 TO 09   \n",
       "3  2015-01  ANG MO KIO    4 ROOM   117  ANG MO KIO AVE 4     10 TO 12   \n",
       "4  2015-02  ANG MO KIO    4 ROOM   175  ANG MO KIO AVE 4     04 TO 06   \n",
       "\n",
       "   floor_area_sqm      flat_model  lease_commence_date  remaining_lease  \\\n",
       "0            91.0  New Generation                 1980             64.0   \n",
       "1            91.0  New Generation                 1981             65.0   \n",
       "2            97.0  New Generation                 1977             61.0   \n",
       "3            98.0  New Generation                 1978             62.0   \n",
       "4            91.0  New Generation                 1981             65.0   \n",
       "\n",
       "          ...          Distance_to_Raffles           MRT  Walk_Time_to_MRT  \\\n",
       "0         ...                    10.679973  Yio Chu Kang          9.651508   \n",
       "1         ...                    10.679973  Yio Chu Kang          9.651508   \n",
       "2         ...                    10.679973  Yio Chu Kang          9.651508   \n",
       "3         ...                    10.679973  Yio Chu Kang          9.651508   \n",
       "4         ...                    10.679973  Yio Chu Kang          9.651508   \n",
       "\n",
       "    Shopping_Mall  Walk_Time_to_Mall Travel_Time  storey remain_lease  \\\n",
       "0  Broadway Plaza          13.089647        24.7       5           61   \n",
       "1  Broadway Plaza          13.089647        24.7       2           62   \n",
       "2  Broadway Plaza          13.089647        24.7       8           58   \n",
       "3  Broadway Plaza          13.089647        24.7      11           59   \n",
       "4  Broadway Plaza          13.089647        24.7       5           62   \n",
       "\n",
       "   town_premium  flat_model_premium  \n",
       "0         21000              -24000  \n",
       "1         21000              -24000  \n",
       "2         21000              -24000  \n",
       "3         21000              -24000  \n",
       "4         21000              -24000  \n",
       "\n",
       "[5 rows x 24 columns]"
      ]
     },
     "execution_count": 3,
     "metadata": {},
     "output_type": "execute_result"
    }
   ],
   "source": [
    "DF = pd.read_csv('From_2005_4_Room.csv')\n",
    "DF.head()"
   ]
  },
  {
   "cell_type": "code",
   "execution_count": 4,
   "metadata": {},
   "outputs": [],
   "source": [
    "#Drop NA values inside dataset. There are several street name that could not be identified using one-map API\n",
    "#For ease of analyse, we just drop those rows with NA values.\n",
    "DF = DF.dropna()"
   ]
  },
  {
   "cell_type": "code",
   "execution_count": 5,
   "metadata": {},
   "outputs": [
    {
     "data": {
      "text/html": [
       "<div>\n",
       "<style scoped>\n",
       "    .dataframe tbody tr th:only-of-type {\n",
       "        vertical-align: middle;\n",
       "    }\n",
       "\n",
       "    .dataframe tbody tr th {\n",
       "        vertical-align: top;\n",
       "    }\n",
       "\n",
       "    .dataframe thead th {\n",
       "        text-align: right;\n",
       "    }\n",
       "</style>\n",
       "<table border=\"1\" class=\"dataframe\">\n",
       "  <thead>\n",
       "    <tr style=\"text-align: right;\">\n",
       "      <th></th>\n",
       "      <th>floor_area_sqm</th>\n",
       "      <th>lease_commence_date</th>\n",
       "      <th>remaining_lease</th>\n",
       "      <th>resale_price</th>\n",
       "      <th>year</th>\n",
       "      <th>LATITUDE</th>\n",
       "      <th>LONGITUDE</th>\n",
       "      <th>Distance_to_Raffles</th>\n",
       "      <th>Walk_Time_to_MRT</th>\n",
       "      <th>Walk_Time_to_Mall</th>\n",
       "      <th>Travel_Time</th>\n",
       "      <th>storey</th>\n",
       "      <th>remain_lease</th>\n",
       "      <th>town_premium</th>\n",
       "      <th>flat_model_premium</th>\n",
       "    </tr>\n",
       "  </thead>\n",
       "  <tbody>\n",
       "    <tr>\n",
       "      <th>count</th>\n",
       "      <td>34605.000000</td>\n",
       "      <td>34605.000000</td>\n",
       "      <td>34605.000000</td>\n",
       "      <td>3.460500e+04</td>\n",
       "      <td>34605.000000</td>\n",
       "      <td>34605.000000</td>\n",
       "      <td>34605.000000</td>\n",
       "      <td>34605.000000</td>\n",
       "      <td>34605.000000</td>\n",
       "      <td>34605.000000</td>\n",
       "      <td>34605.000000</td>\n",
       "      <td>34605.000000</td>\n",
       "      <td>34605.000000</td>\n",
       "      <td>34605.000000</td>\n",
       "      <td>34605.000000</td>\n",
       "    </tr>\n",
       "    <tr>\n",
       "      <th>mean</th>\n",
       "      <td>95.901795</td>\n",
       "      <td>1995.315908</td>\n",
       "      <td>77.278226</td>\n",
       "      <td>4.406973e+05</td>\n",
       "      <td>2016.574917</td>\n",
       "      <td>103.840383</td>\n",
       "      <td>1.368866</td>\n",
       "      <td>12.589505</td>\n",
       "      <td>9.293543</td>\n",
       "      <td>7.870241</td>\n",
       "      <td>28.738474</td>\n",
       "      <td>8.771651</td>\n",
       "      <td>76.315908</td>\n",
       "      <td>-4172.123682</td>\n",
       "      <td>-8021.702066</td>\n",
       "    </tr>\n",
       "    <tr>\n",
       "      <th>std</th>\n",
       "      <td>7.614444</td>\n",
       "      <td>10.945946</td>\n",
       "      <td>10.877755</td>\n",
       "      <td>1.184703e+05</td>\n",
       "      <td>1.106864</td>\n",
       "      <td>0.071535</td>\n",
       "      <td>0.043169</td>\n",
       "      <td>4.470728</td>\n",
       "      <td>5.273297</td>\n",
       "      <td>4.384387</td>\n",
       "      <td>9.403817</td>\n",
       "      <td>6.179326</td>\n",
       "      <td>10.945946</td>\n",
       "      <td>60823.218040</td>\n",
       "      <td>67777.712466</td>\n",
       "    </tr>\n",
       "    <tr>\n",
       "      <th>min</th>\n",
       "      <td>70.000000</td>\n",
       "      <td>1967.000000</td>\n",
       "      <td>49.000000</td>\n",
       "      <td>2.250000e+05</td>\n",
       "      <td>2015.000000</td>\n",
       "      <td>103.690722</td>\n",
       "      <td>1.271463</td>\n",
       "      <td>0.764559</td>\n",
       "      <td>0.322260</td>\n",
       "      <td>0.628782</td>\n",
       "      <td>4.600000</td>\n",
       "      <td>2.000000</td>\n",
       "      <td>48.000000</td>\n",
       "      <td>-71000.000000</td>\n",
       "      <td>-69000.000000</td>\n",
       "    </tr>\n",
       "    <tr>\n",
       "      <th>25%</th>\n",
       "      <td>91.000000</td>\n",
       "      <td>1986.000000</td>\n",
       "      <td>68.000000</td>\n",
       "      <td>3.620000e+05</td>\n",
       "      <td>2016.000000</td>\n",
       "      <td>103.776497</td>\n",
       "      <td>1.340062</td>\n",
       "      <td>9.775773</td>\n",
       "      <td>5.647955</td>\n",
       "      <td>4.703258</td>\n",
       "      <td>23.000000</td>\n",
       "      <td>5.000000</td>\n",
       "      <td>67.000000</td>\n",
       "      <td>-56000.000000</td>\n",
       "      <td>-24000.000000</td>\n",
       "    </tr>\n",
       "    <tr>\n",
       "      <th>50%</th>\n",
       "      <td>94.000000</td>\n",
       "      <td>1996.000000</td>\n",
       "      <td>78.000000</td>\n",
       "      <td>4.090000e+05</td>\n",
       "      <td>2017.000000</td>\n",
       "      <td>103.846509</td>\n",
       "      <td>1.365758</td>\n",
       "      <td>13.359225</td>\n",
       "      <td>8.830208</td>\n",
       "      <td>7.361006</td>\n",
       "      <td>30.600000</td>\n",
       "      <td>8.000000</td>\n",
       "      <td>77.000000</td>\n",
       "      <td>-11000.000000</td>\n",
       "      <td>-11000.000000</td>\n",
       "    </tr>\n",
       "    <tr>\n",
       "      <th>75%</th>\n",
       "      <td>103.000000</td>\n",
       "      <td>2003.000000</td>\n",
       "      <td>85.000000</td>\n",
       "      <td>4.750000e+05</td>\n",
       "      <td>2018.000000</td>\n",
       "      <td>103.898645</td>\n",
       "      <td>1.397748</td>\n",
       "      <td>15.874781</td>\n",
       "      <td>11.984174</td>\n",
       "      <td>10.349421</td>\n",
       "      <td>34.200000</td>\n",
       "      <td>11.000000</td>\n",
       "      <td>84.000000</td>\n",
       "      <td>21000.000000</td>\n",
       "      <td>-11000.000000</td>\n",
       "    </tr>\n",
       "    <tr>\n",
       "      <th>max</th>\n",
       "      <td>136.000000</td>\n",
       "      <td>2016.000000</td>\n",
       "      <td>97.000000</td>\n",
       "      <td>1.028000e+06</td>\n",
       "      <td>2018.000000</td>\n",
       "      <td>103.962717</td>\n",
       "      <td>1.455512</td>\n",
       "      <td>20.122617</td>\n",
       "      <td>32.705443</td>\n",
       "      <td>30.214191</td>\n",
       "      <td>48.200000</td>\n",
       "      <td>50.000000</td>\n",
       "      <td>97.000000</td>\n",
       "      <td>209000.000000</td>\n",
       "      <td>486000.000000</td>\n",
       "    </tr>\n",
       "  </tbody>\n",
       "</table>\n",
       "</div>"
      ],
      "text/plain": [
       "       floor_area_sqm  lease_commence_date  remaining_lease  resale_price  \\\n",
       "count    34605.000000         34605.000000     34605.000000  3.460500e+04   \n",
       "mean        95.901795          1995.315908        77.278226  4.406973e+05   \n",
       "std          7.614444            10.945946        10.877755  1.184703e+05   \n",
       "min         70.000000          1967.000000        49.000000  2.250000e+05   \n",
       "25%         91.000000          1986.000000        68.000000  3.620000e+05   \n",
       "50%         94.000000          1996.000000        78.000000  4.090000e+05   \n",
       "75%        103.000000          2003.000000        85.000000  4.750000e+05   \n",
       "max        136.000000          2016.000000        97.000000  1.028000e+06   \n",
       "\n",
       "               year      LATITUDE     LONGITUDE  Distance_to_Raffles  \\\n",
       "count  34605.000000  34605.000000  34605.000000         34605.000000   \n",
       "mean    2016.574917    103.840383      1.368866            12.589505   \n",
       "std        1.106864      0.071535      0.043169             4.470728   \n",
       "min     2015.000000    103.690722      1.271463             0.764559   \n",
       "25%     2016.000000    103.776497      1.340062             9.775773   \n",
       "50%     2017.000000    103.846509      1.365758            13.359225   \n",
       "75%     2018.000000    103.898645      1.397748            15.874781   \n",
       "max     2018.000000    103.962717      1.455512            20.122617   \n",
       "\n",
       "       Walk_Time_to_MRT  Walk_Time_to_Mall   Travel_Time        storey  \\\n",
       "count      34605.000000       34605.000000  34605.000000  34605.000000   \n",
       "mean           9.293543           7.870241     28.738474      8.771651   \n",
       "std            5.273297           4.384387      9.403817      6.179326   \n",
       "min            0.322260           0.628782      4.600000      2.000000   \n",
       "25%            5.647955           4.703258     23.000000      5.000000   \n",
       "50%            8.830208           7.361006     30.600000      8.000000   \n",
       "75%           11.984174          10.349421     34.200000     11.000000   \n",
       "max           32.705443          30.214191     48.200000     50.000000   \n",
       "\n",
       "       remain_lease   town_premium  flat_model_premium  \n",
       "count  34605.000000   34605.000000        34605.000000  \n",
       "mean      76.315908   -4172.123682        -8021.702066  \n",
       "std       10.945946   60823.218040        67777.712466  \n",
       "min       48.000000  -71000.000000       -69000.000000  \n",
       "25%       67.000000  -56000.000000       -24000.000000  \n",
       "50%       77.000000  -11000.000000       -11000.000000  \n",
       "75%       84.000000   21000.000000       -11000.000000  \n",
       "max       97.000000  209000.000000       486000.000000  "
      ]
     },
     "execution_count": 5,
     "metadata": {},
     "output_type": "execute_result"
    }
   ],
   "source": [
    "DF.describe()"
   ]
  },
  {
   "cell_type": "code",
   "execution_count": 6,
   "metadata": {
    "scrolled": true
   },
   "outputs": [
    {
     "data": {
      "text/html": [
       "<div>\n",
       "<style scoped>\n",
       "    .dataframe tbody tr th:only-of-type {\n",
       "        vertical-align: middle;\n",
       "    }\n",
       "\n",
       "    .dataframe tbody tr th {\n",
       "        vertical-align: top;\n",
       "    }\n",
       "\n",
       "    .dataframe thead th {\n",
       "        text-align: right;\n",
       "    }\n",
       "</style>\n",
       "<table border=\"1\" class=\"dataframe\">\n",
       "  <thead>\n",
       "    <tr style=\"text-align: right;\">\n",
       "      <th></th>\n",
       "      <th>resale_price</th>\n",
       "    </tr>\n",
       "  </thead>\n",
       "  <tbody>\n",
       "    <tr>\n",
       "      <th>0</th>\n",
       "      <td>410000.0</td>\n",
       "    </tr>\n",
       "    <tr>\n",
       "      <th>1</th>\n",
       "      <td>450000.0</td>\n",
       "    </tr>\n",
       "    <tr>\n",
       "      <th>2</th>\n",
       "      <td>465000.0</td>\n",
       "    </tr>\n",
       "    <tr>\n",
       "      <th>3</th>\n",
       "      <td>476000.0</td>\n",
       "    </tr>\n",
       "    <tr>\n",
       "      <th>4</th>\n",
       "      <td>438000.0</td>\n",
       "    </tr>\n",
       "  </tbody>\n",
       "</table>\n",
       "</div>"
      ],
      "text/plain": [
       "   resale_price\n",
       "0      410000.0\n",
       "1      450000.0\n",
       "2      465000.0\n",
       "3      476000.0\n",
       "4      438000.0"
      ]
     },
     "execution_count": 6,
     "metadata": {},
     "output_type": "execute_result"
    }
   ],
   "source": [
    "# y is the resale_price, target variable for our model\n",
    "y = DF[['resale_price']]\n",
    "y.head()"
   ]
  },
  {
   "cell_type": "code",
   "execution_count": 7,
   "metadata": {},
   "outputs": [],
   "source": [
    "# x is the input variable that will be used to predict resale price. we have used almost all the data columns we have in dataset.\n",
    "x = DF[['floor_area_sqm','Walk_Time_to_MRT','Walk_Time_to_Mall','Travel_Time','storey','remain_lease','town_premium','flat_model_premium']]"
   ]
  },
  {
   "cell_type": "code",
   "execution_count": 8,
   "metadata": {},
   "outputs": [
    {
     "data": {
      "text/html": [
       "<div>\n",
       "<style scoped>\n",
       "    .dataframe tbody tr th:only-of-type {\n",
       "        vertical-align: middle;\n",
       "    }\n",
       "\n",
       "    .dataframe tbody tr th {\n",
       "        vertical-align: top;\n",
       "    }\n",
       "\n",
       "    .dataframe thead th {\n",
       "        text-align: right;\n",
       "    }\n",
       "</style>\n",
       "<table border=\"1\" class=\"dataframe\">\n",
       "  <thead>\n",
       "    <tr style=\"text-align: right;\">\n",
       "      <th></th>\n",
       "      <th>floor_area_sqm</th>\n",
       "      <th>Walk_Time_to_MRT</th>\n",
       "      <th>Walk_Time_to_Mall</th>\n",
       "      <th>Travel_Time</th>\n",
       "      <th>storey</th>\n",
       "      <th>remain_lease</th>\n",
       "      <th>town_premium</th>\n",
       "      <th>flat_model_premium</th>\n",
       "    </tr>\n",
       "  </thead>\n",
       "  <tbody>\n",
       "    <tr>\n",
       "      <th>0</th>\n",
       "      <td>91.0</td>\n",
       "      <td>9.651508</td>\n",
       "      <td>13.089647</td>\n",
       "      <td>24.7</td>\n",
       "      <td>5</td>\n",
       "      <td>61</td>\n",
       "      <td>21000</td>\n",
       "      <td>-24000</td>\n",
       "    </tr>\n",
       "    <tr>\n",
       "      <th>1</th>\n",
       "      <td>91.0</td>\n",
       "      <td>9.651508</td>\n",
       "      <td>13.089647</td>\n",
       "      <td>24.7</td>\n",
       "      <td>2</td>\n",
       "      <td>62</td>\n",
       "      <td>21000</td>\n",
       "      <td>-24000</td>\n",
       "    </tr>\n",
       "    <tr>\n",
       "      <th>2</th>\n",
       "      <td>97.0</td>\n",
       "      <td>9.651508</td>\n",
       "      <td>13.089647</td>\n",
       "      <td>24.7</td>\n",
       "      <td>8</td>\n",
       "      <td>58</td>\n",
       "      <td>21000</td>\n",
       "      <td>-24000</td>\n",
       "    </tr>\n",
       "    <tr>\n",
       "      <th>3</th>\n",
       "      <td>98.0</td>\n",
       "      <td>9.651508</td>\n",
       "      <td>13.089647</td>\n",
       "      <td>24.7</td>\n",
       "      <td>11</td>\n",
       "      <td>59</td>\n",
       "      <td>21000</td>\n",
       "      <td>-24000</td>\n",
       "    </tr>\n",
       "    <tr>\n",
       "      <th>4</th>\n",
       "      <td>91.0</td>\n",
       "      <td>9.651508</td>\n",
       "      <td>13.089647</td>\n",
       "      <td>24.7</td>\n",
       "      <td>5</td>\n",
       "      <td>62</td>\n",
       "      <td>21000</td>\n",
       "      <td>-24000</td>\n",
       "    </tr>\n",
       "  </tbody>\n",
       "</table>\n",
       "</div>"
      ],
      "text/plain": [
       "   floor_area_sqm  Walk_Time_to_MRT  Walk_Time_to_Mall  Travel_Time  storey  \\\n",
       "0            91.0          9.651508          13.089647         24.7       5   \n",
       "1            91.0          9.651508          13.089647         24.7       2   \n",
       "2            97.0          9.651508          13.089647         24.7       8   \n",
       "3            98.0          9.651508          13.089647         24.7      11   \n",
       "4            91.0          9.651508          13.089647         24.7       5   \n",
       "\n",
       "   remain_lease  town_premium  flat_model_premium  \n",
       "0            61         21000              -24000  \n",
       "1            62         21000              -24000  \n",
       "2            58         21000              -24000  \n",
       "3            59         21000              -24000  \n",
       "4            62         21000              -24000  "
      ]
     },
     "execution_count": 8,
     "metadata": {},
     "output_type": "execute_result"
    }
   ],
   "source": [
    "x.head()"
   ]
  },
  {
   "cell_type": "code",
   "execution_count": 9,
   "metadata": {},
   "outputs": [],
   "source": [
    "X_train, X_test, y_train, y_test = train_test_split(x, y, test_size=0.2,random_state=4)"
   ]
  },
  {
   "cell_type": "code",
   "execution_count": 10,
   "metadata": {},
   "outputs": [
    {
     "name": "stdout",
     "output_type": "stream",
     "text": [
      "(27684, 8) (27684, 1)\n",
      "(6921, 8) (6921, 1)\n"
     ]
    }
   ],
   "source": [
    "#double check the input data/ target variable size information. \n",
    "print (X_train.shape, y_train.shape)\n",
    "print (X_test.shape, y_test.shape)"
   ]
  },
  {
   "cell_type": "code",
   "execution_count": 11,
   "metadata": {},
   "outputs": [
    {
     "name": "stderr",
     "output_type": "stream",
     "text": [
      "/anaconda3/envs/CS5242/lib/python3.6/site-packages/sklearn/linear_model/base.py:509: RuntimeWarning: internal gelsd driver lwork query error, required iwork dimension not returned. This is likely the result of LAPACK bug 0038, fixed in LAPACK 3.2.2 (released July 21, 2010). Falling back to 'gelss' driver.\n",
      "  linalg.lstsq(X, y)\n"
     ]
    }
   ],
   "source": [
    "lm = linear_model.LinearRegression()\n",
    "model = lm.fit(X_train, y_train)"
   ]
  },
  {
   "cell_type": "code",
   "execution_count": 12,
   "metadata": {},
   "outputs": [],
   "source": [
    "predictions = lm.predict(X_test)"
   ]
  },
  {
   "cell_type": "code",
   "execution_count": 13,
   "metadata": {},
   "outputs": [
    {
     "data": {
      "text/plain": [
       "array([[ 2.56438799e+03, -4.00353524e+03,  8.53113184e+02,\n",
       "        -4.23526984e+03,  4.13536512e+03,  1.90296084e+03,\n",
       "         7.18856515e-01,  2.88864582e-01]])"
      ]
     },
     "execution_count": 13,
     "metadata": {},
     "output_type": "execute_result"
    }
   ],
   "source": [
    "model.coef_"
   ]
  },
  {
   "cell_type": "code",
   "execution_count": 14,
   "metadata": {},
   "outputs": [
    {
     "data": {
      "text/plain": [
       "Text(0,0.5,'Predictions')"
      ]
     },
     "execution_count": 14,
     "metadata": {},
     "output_type": "execute_result"
    },
    {
     "data": {
      "image/png": "[encoded data removed]",
      "text/plain": [
       "<Figure size 432x288 with 1 Axes>"
      ]
     },
     "metadata": {
      "needs_background": "light"
     },
     "output_type": "display_data"
    }
   ],
   "source": [
    "plt.scatter(y_test, predictions)\n",
    "plt.xlabel(\"True Values\")\n",
    "plt.ylabel(\"Predictions\")"
   ]
  },
  {
   "cell_type": "code",
   "execution_count": 15,
   "metadata": {},
   "outputs": [
    {
     "name": "stdout",
     "output_type": "stream",
     "text": [
      "Score: 0.7972531192249587\n"
     ]
    }
   ],
   "source": [
    "#Returns the coefficient of determination R^2 of the prediction.\n",
    "print (\"Score:\", model.score(X_test, y_test))"
   ]
  },
  {
   "cell_type": "code",
   "execution_count": 16,
   "metadata": {},
   "outputs": [],
   "source": [
    "#The coefficient R^2 is defined as (1 - u/v), where u is the residual sum of squares ((y_true - y_pred) ** 2).sum() \n",
    "#and v is the total sum of squares ((y_true - y_true.mean()) ** 2).sum(). The best possible score is 1.0 and it \n",
    "#can be negative (because the model can be arbitrarily worse). A constant model that always predicts the \n",
    "#expected value of y, disregarding the input features, would get a R^2 score of 0.0."
   ]
  },
  {
   "cell_type": "code",
   "execution_count": 17,
   "metadata": {},
   "outputs": [],
   "source": [
    "from sklearn import ensemble\n",
    "clf2 = ensemble.GradientBoostingRegressor(n_estimators = 400, max_depth=5, min_samples_split = 2, learning_rate=0.1, \n",
    "                                          loss = 'ls')"
   ]
  },
  {
   "cell_type": "code",
   "execution_count": 18,
   "metadata": {},
   "outputs": [
    {
     "name": "stderr",
     "output_type": "stream",
     "text": [
      "/anaconda3/envs/CS5242/lib/python3.6/site-packages/sklearn/utils/validation.py:578: DataConversionWarning: A column-vector y was passed when a 1d array was expected. Please change the shape of y to (n_samples, ), for example using ravel().\n",
      "  y = column_or_1d(y, warn=True)\n"
     ]
    },
    {
     "data": {
      "text/plain": [
       "GradientBoostingRegressor(alpha=0.9, criterion='friedman_mse', init=None,\n",
       "             learning_rate=0.1, loss='ls', max_depth=5, max_features=None,\n",
       "             max_leaf_nodes=None, min_impurity_decrease=0.0,\n",
       "             min_impurity_split=None, min_samples_leaf=1,\n",
       "             min_samples_split=2, min_weight_fraction_leaf=0.0,\n",
       "             n_estimators=400, presort='auto', random_state=None,\n",
       "             subsample=1.0, verbose=0, warm_start=False)"
      ]
     },
     "execution_count": 18,
     "metadata": {},
     "output_type": "execute_result"
    }
   ],
   "source": [
    "clf2.fit(X_train,y_train)"
   ]
  },
  {
   "cell_type": "code",
   "execution_count": 19,
   "metadata": {},
   "outputs": [
    {
     "data": {
      "text/plain": [
       "0.955071020510359"
      ]
     },
     "execution_count": 19,
     "metadata": {},
     "output_type": "execute_result"
    }
   ],
   "source": [
    "clf2.score(X_test,y_test)"
   ]
  },
  {
   "cell_type": "code",
   "execution_count": 20,
   "metadata": {},
   "outputs": [
    {
     "data": {
      "text/plain": [
       "array([0.14193712, 0.15852641, 0.17309154, 0.1105988 , 0.11312629,\n",
       "       0.16717008, 0.09330937, 0.0422404 ])"
      ]
     },
     "execution_count": 20,
     "metadata": {},
     "output_type": "execute_result"
    }
   ],
   "source": [
    "clf2.feature_importances_"
   ]
  }
 ],
 "metadata": {
  "kernelspec": {
   "display_name": "Python [conda env:CS5242]",
   "language": "python",
   "name": "conda-env-CS5242-py"
  },
  "language_info": {
   "codemirror_mode": {
    "name": "ipython",
    "version": 3
   },
   "file_extension": ".py",
   "mimetype": "text/x-python",
   "name": "python",
   "nbconvert_exporter": "python",
   "pygments_lexer": "ipython3",
   "version": "3.6.7"
  }
 },
 "nbformat": 4,
 "nbformat_minor": 2
}
